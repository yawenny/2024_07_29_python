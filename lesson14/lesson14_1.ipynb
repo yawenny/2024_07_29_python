{
 "cells": [
  {
   "cell_type": "code",
   "execution_count": 1,
   "metadata": {},
   "outputs": [
    {
     "data": {
      "text/plain": [
       "(5, 7)"
      ]
     },
     "execution_count": 1,
     "metadata": {},
     "output_type": "execute_result"
    }
   ],
   "source": [
    "#tuple\n",
    "(5,7)"
   ]
  },
  {
   "cell_type": "code",
   "execution_count": 2,
   "metadata": {},
   "outputs": [
    {
     "data": {
      "text/plain": [
       "(5, 7)"
      ]
     },
     "execution_count": 2,
     "metadata": {},
     "output_type": "execute_result"
    }
   ],
   "source": [
    "#tuple\n",
    "5,7"
   ]
  },
  {
   "cell_type": "code",
   "execution_count": 3,
   "metadata": {},
   "outputs": [
    {
     "data": {
      "text/plain": [
       "(5,)"
      ]
     },
     "execution_count": 3,
     "metadata": {},
     "output_type": "execute_result"
    }
   ],
   "source": [
    "#tuple\n",
    "(5,)"
   ]
  },
  {
   "cell_type": "code",
   "execution_count": 4,
   "metadata": {},
   "outputs": [
    {
     "data": {
      "text/plain": [
       "[1, 3, 5, 7, 9, 3, 5, 6, 7, 9]"
      ]
     },
     "execution_count": 4,
     "metadata": {},
     "output_type": "execute_result"
    }
   ],
   "source": [
    "list_a =[1,3,5,7,9]\n",
    "list_b =[3,5,6,7,9]\n",
    "list_a+list_b"
   ]
  },
  {
   "cell_type": "code",
   "execution_count": 8,
   "metadata": {},
   "outputs": [
    {
     "name": "stdout",
     "output_type": "stream",
     "text": [
      "[1 3 5 7 9]\n",
      "<class 'numpy.ndarray'>\n"
     ]
    },
    {
     "data": {
      "text/plain": [
       "array([ 4,  8, 11, 14, 18])"
      ]
     },
     "execution_count": 8,
     "metadata": {},
     "output_type": "execute_result"
    }
   ],
   "source": [
    "import numpy as np\n",
    "array_a = np.array([1,3,5,7,9])\n",
    "array_b = np.array([3,5,6,7,9])\n",
    "print(array_a)\n",
    "print(type(array_a))\n",
    "array_a+array_b"
   ]
  },
  {
   "cell_type": "code",
   "execution_count": 10,
   "metadata": {},
   "outputs": [
    {
     "data": {
      "text/plain": [
       "(2, (2, 3), 6, dtype('int64'))"
      ]
     },
     "execution_count": 10,
     "metadata": {},
     "output_type": "execute_result"
    }
   ],
   "source": [
    "import numpy as np\n",
    "\n",
    "l = [[1,2,3],[2,3,4]]\n",
    "array = np.array(l)\n",
    "array.ndim,array.shape,array.size,array.dtype"
   ]
  },
  {
   "cell_type": "code",
   "execution_count": null,
   "metadata": {},
   "outputs": [],
   "source": [
    "import numpy as np\n",
    "np.random.randn(10,5)"
   ]
  },
  {
   "cell_type": "code",
   "execution_count": null,
   "metadata": {},
   "outputs": [],
   "source": [
    "#50個學生,每個學生有5個分數(50-100)\n",
    "scores = np.random.randint(50,101,size=(50,5))\n",
    "scores\n"
   ]
  },
  {
   "cell_type": "code",
   "execution_count": 18,
   "metadata": {},
   "outputs": [
    {
     "data": {
      "text/plain": [
       "array([[ 95,  92,  85,  97,  72],\n",
       "       [ 99,  55,  53,  77,  54],\n",
       "       [ 68,  60,  64,  65,  63],\n",
       "       [ 57,  90,  61,  82,  54],\n",
       "       [ 67, 100, 100,  99,  84]])"
      ]
     },
     "execution_count": 18,
     "metadata": {},
     "output_type": "execute_result"
    }
   ],
   "source": [
    "#第一個學生\n",
    "scores[0,:]\n",
    "#前五個學生\n",
    "scores[:5,:]\n",
    "#最後五個學生\n",
    "scores[-5:,:]"
   ]
  },
  {
   "cell_type": "code",
   "execution_count": 19,
   "metadata": {},
   "outputs": [
    {
     "data": {
      "text/plain": [
       "array([70, 87, 77, 75, 72, 87, 96, 50, 99, 57, 73, 57, 82, 98, 50, 82, 56,\n",
       "       93, 98, 75, 61, 66, 67, 67, 87, 84, 90, 84, 60, 82, 59, 69, 96, 76,\n",
       "       97, 69, 91, 94, 66, 60, 59, 67, 65, 99, 88, 95, 99, 68, 57, 67])"
      ]
     },
     "execution_count": 19,
     "metadata": {},
     "output_type": "execute_result"
    }
   ],
   "source": [
    "#全班第1科的分數\n",
    "scores[:,0]"
   ]
  },
  {
   "cell_type": "code",
   "execution_count": 20,
   "metadata": {},
   "outputs": [
    {
     "data": {
      "text/plain": [
       "array([ 95,  60,  53,  68,  96,  98,  63,  98,  98,  78,  52,  66,  79,\n",
       "        63,  87,  69,  74,  57,  91,  86,  73,  89,  83,  84,  71,  57,\n",
       "        64,  88,  76,  64,  83,  60,  91,  80,  99,  91,  77,  66,  52,\n",
       "        87,  82,  62,  87,  97,  83,  92,  55,  60,  90, 100])"
      ]
     },
     "execution_count": 20,
     "metadata": {},
     "output_type": "execute_result"
    }
   ],
   "source": [
    "#全班第2科的分數\n",
    "scores[:,1]"
   ]
  },
  {
   "cell_type": "code",
   "execution_count": 22,
   "metadata": {},
   "outputs": [
    {
     "data": {
      "text/plain": [
       "array([384, 348, 352, 410, 359, 398, 378, 394, 466, 367, 379, 329, 373,\n",
       "       376, 334, 390, 363, 400, 406, 355, 356, 385, 421, 378, 363, 317,\n",
       "       425, 420, 342, 406, 360, 353, 428, 386, 435, 328, 394, 398, 312,\n",
       "       352, 335, 332, 385, 421, 416, 441, 338, 320, 344, 450])"
      ]
     },
     "execution_count": 22,
     "metadata": {},
     "output_type": "execute_result"
    }
   ],
   "source": [
    "#每位學生的總分\n",
    "total =scores[:,0]+scores[:,1]+scores[:,2]+scores[:,3]+scores[:,4]\n",
    "total"
   ]
  },
  {
   "cell_type": "code",
   "execution_count": 24,
   "metadata": {},
   "outputs": [
    {
     "data": {
      "text/plain": [
       "array([384, 348, 352, 410, 359, 398, 378, 394, 466, 367, 379, 329, 373,\n",
       "       376, 334, 390, 363, 400, 406, 355, 356, 385, 421, 378, 363, 317,\n",
       "       425, 420, 342, 406, 360, 353, 428, 386, 435, 328, 394, 398, 312,\n",
       "       352, 335, 332, 385, 421, 416, 441, 338, 320, 344, 450])"
      ]
     },
     "execution_count": 24,
     "metadata": {},
     "output_type": "execute_result"
    }
   ],
   "source": [
    "#使用統計的方法\n",
    "#每個學生總分\n",
    "np.sum(scores,axis=1)"
   ]
  },
  {
   "cell_type": "code",
   "execution_count": 25,
   "metadata": {},
   "outputs": [
    {
     "data": {
      "text/plain": [
       "array([76.8, 69.6, 70.4, 82. , 71.8, 79.6, 75.6, 78.8, 93.2, 73.4, 75.8,\n",
       "       65.8, 74.6, 75.2, 66.8, 78. , 72.6, 80. , 81.2, 71. , 71.2, 77. ,\n",
       "       84.2, 75.6, 72.6, 63.4, 85. , 84. , 68.4, 81.2, 72. , 70.6, 85.6,\n",
       "       77.2, 87. , 65.6, 78.8, 79.6, 62.4, 70.4, 67. , 66.4, 77. , 84.2,\n",
       "       83.2, 88.2, 67.6, 64. , 68.8, 90. ])"
      ]
     },
     "execution_count": 25,
     "metadata": {},
     "output_type": "execute_result"
    }
   ],
   "source": [
    "#每個學生平均\n",
    "np.mean(scores,axis=1)"
   ]
  },
  {
   "cell_type": "code",
   "execution_count": null,
   "metadata": {},
   "outputs": [],
   "source": []
  }
 ],
 "metadata": {
  "kernelspec": {
   "display_name": "Python 3",
   "language": "python",
   "name": "python3"
  },
  "language_info": {
   "codemirror_mode": {
    "name": "ipython",
    "version": 3
   },
   "file_extension": ".py",
   "mimetype": "text/x-python",
   "name": "python",
   "nbconvert_exporter": "python",
   "pygments_lexer": "ipython3",
   "version": "3.11.9"
  }
 },
 "nbformat": 4,
 "nbformat_minor": 2
}
