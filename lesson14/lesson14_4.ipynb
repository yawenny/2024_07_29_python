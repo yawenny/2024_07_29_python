{
 "cells": [
  {
   "cell_type": "code",
   "execution_count": null,
   "metadata": {},
   "outputs": [],
   "source": [
    "#csv轉DataFrame\n",
    "import pandas as pd\n",
    "\n",
    "df = pd.read_csv('students.csv',index_col=0)\n",
    "df"
   ]
  },
  {
   "cell_type": "code",
   "execution_count": null,
   "metadata": {},
   "outputs": [],
   "source": [
    "#選取欄位\n",
    "df['國文']"
   ]
  },
  {
   "cell_type": "code",
   "execution_count": null,
   "metadata": {},
   "outputs": [],
   "source": [
    "#選取多欄位\n",
    "df[['國文','英文','數學']]"
   ]
  },
  {
   "cell_type": "code",
   "execution_count": null,
   "metadata": {},
   "outputs": [],
   "source": [
    "#陣列運算\n",
    "#建立新欄位\n",
    "sum = df['國文']+df['英文']+df['數學']+df['探索']+df['地理']\n",
    "average = sum/5\n",
    "df['總分'] = sum\n",
    "df['平均'] = average\n",
    "df"
   ]
  },
  {
   "cell_type": "code",
   "execution_count": 12,
   "metadata": {},
   "outputs": [
    {
     "data": {
      "text/plain": [
       "國文     95.0\n",
       "英文     58.0\n",
       "數學     92.0\n",
       "地理     90.0\n",
       "探索     74.0\n",
       "總分    409.0\n",
       "平均     81.8\n",
       "Name: 王梅劭, dtype: float64"
      ]
     },
     "execution_count": 12,
     "metadata": {},
     "output_type": "execute_result"
    }
   ],
   "source": [
    "df.loc['王梅劭']"
   ]
  },
  {
   "cell_type": "code",
   "execution_count": 15,
   "metadata": {},
   "outputs": [
    {
     "data": {
      "text/html": [
       "<div>\n",
       "<style scoped>\n",
       "    .dataframe tbody tr th:only-of-type {\n",
       "        vertical-align: middle;\n",
       "    }\n",
       "\n",
       "    .dataframe tbody tr th {\n",
       "        vertical-align: top;\n",
       "    }\n",
       "\n",
       "    .dataframe thead th {\n",
       "        text-align: right;\n",
       "    }\n",
       "</style>\n",
       "<table border=\"1\" class=\"dataframe\">\n",
       "  <thead>\n",
       "    <tr style=\"text-align: right;\">\n",
       "      <th></th>\n",
       "      <th>國文</th>\n",
       "      <th>英文</th>\n",
       "      <th>數學</th>\n",
       "      <th>地理</th>\n",
       "      <th>探索</th>\n",
       "      <th>總分</th>\n",
       "      <th>平均</th>\n",
       "    </tr>\n",
       "  </thead>\n",
       "  <tbody>\n",
       "    <tr>\n",
       "      <th>王梅劭</th>\n",
       "      <td>95</td>\n",
       "      <td>58</td>\n",
       "      <td>92</td>\n",
       "      <td>90</td>\n",
       "      <td>74</td>\n",
       "      <td>409</td>\n",
       "      <td>81.8</td>\n",
       "    </tr>\n",
       "    <tr>\n",
       "      <th>鄭憲定</th>\n",
       "      <td>85</td>\n",
       "      <td>50</td>\n",
       "      <td>57</td>\n",
       "      <td>68</td>\n",
       "      <td>52</td>\n",
       "      <td>312</td>\n",
       "      <td>62.4</td>\n",
       "    </tr>\n",
       "    <tr>\n",
       "      <th>吳淑惠</th>\n",
       "      <td>72</td>\n",
       "      <td>86</td>\n",
       "      <td>60</td>\n",
       "      <td>78</td>\n",
       "      <td>59</td>\n",
       "      <td>355</td>\n",
       "      <td>71.0</td>\n",
       "    </tr>\n",
       "    <tr>\n",
       "      <th>黃佩芬</th>\n",
       "      <td>70</td>\n",
       "      <td>84</td>\n",
       "      <td>64</td>\n",
       "      <td>88</td>\n",
       "      <td>67</td>\n",
       "      <td>373</td>\n",
       "      <td>74.6</td>\n",
       "    </tr>\n",
       "    <tr>\n",
       "      <th>盧冠發</th>\n",
       "      <td>59</td>\n",
       "      <td>63</td>\n",
       "      <td>74</td>\n",
       "      <td>65</td>\n",
       "      <td>74</td>\n",
       "      <td>335</td>\n",
       "      <td>67.0</td>\n",
       "    </tr>\n",
       "  </tbody>\n",
       "</table>\n",
       "</div>"
      ],
      "text/plain": [
       "     國文  英文  數學  地理  探索   總分    平均\n",
       "王梅劭  95  58  92  90  74  409  81.8\n",
       "鄭憲定  85  50  57  68  52  312  62.4\n",
       "吳淑惠  72  86  60  78  59  355  71.0\n",
       "黃佩芬  70  84  64  88  67  373  74.6\n",
       "盧冠發  59  63  74  65  74  335  67.0"
      ]
     },
     "execution_count": 15,
     "metadata": {},
     "output_type": "execute_result"
    }
   ],
   "source": [
    "df.iloc[:5,:]"
   ]
  }
 ],
 "metadata": {
  "kernelspec": {
   "display_name": "Python 3",
   "language": "python",
   "name": "python3"
  },
  "language_info": {
   "codemirror_mode": {
    "name": "ipython",
    "version": 3
   },
   "file_extension": ".py",
   "mimetype": "text/x-python",
   "name": "python",
   "nbconvert_exporter": "python",
   "pygments_lexer": "ipython3",
   "version": "3.11.9"
  }
 },
 "nbformat": 4,
 "nbformat_minor": 2
}
