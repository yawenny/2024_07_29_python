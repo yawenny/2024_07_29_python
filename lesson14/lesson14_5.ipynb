{
 "cells": [
  {
   "cell_type": "code",
   "execution_count": 14,
   "metadata": {},
   "outputs": [
    {
     "name": "stdout",
     "output_type": "stream",
     "text": [
      "                 名稱      註冊號碼                   地址        統編         緯度  \\\n",
      "0             鴻輝食品廠  99611344   新北市新莊區新莊路四九三巷四弄一一號  35567635  121.44862   \n",
      "1       廣達香食品股份有限公司  99604192     新北市新莊區化成路三八二巷一八號  35549807  121.46722   \n",
      "2             順發糧食行  99613990     新北市板橋區縣民大道一段二八一號  33305209  121.46050   \n",
      "3      台灣塩野香料股份有限公司  99600477        新北市新莊區化成路二一九號   3561504  121.46569   \n",
      "4      圓金釀造食品股份有限公司  99606467     新北市新莊區新樹路二六八巷二二號  35427115  121.43106   \n",
      "..              ...       ...                  ...       ...        ...   \n",
      "995    宇笛生物科技股份有限公司  65007250   新北市中和區立德街148巷52號6樓  12953312  121.48631   \n",
      "996        芊語實業有限公司  65007281      新北市板橋區信義路165號2樓  66639825  121.45882   \n",
      "997  海邊走走食品股份有限公司二廠  65007312  新北市淡水區中正東路1段3巷23號1樓  54710204  121.45188   \n",
      "998        草系生活有限公司  65007319   新北市土城區中央路3段87號7樓之1  54151784  121.43784   \n",
      "999        明朝製麵有限公司  65007320       新北市樹林區忠信街15號3樓  50845258  121.40782   \n",
      "\n",
      "           經度                      日期  \n",
      "0    25.03270  中華民國59年08月23日 03:38:51  \n",
      "1    25.04990  中華民國59年08月23日 03:38:51  \n",
      "2    25.01011  中華民國59年08月23日 03:38:51  \n",
      "3    25.04674  中華民國59年08月23日 03:38:51  \n",
      "4    25.01403  中華民國59年08月23日 03:38:51  \n",
      "..        ...                     ...  \n",
      "995  25.00925  中華民國59年08月23日 03:38:51  \n",
      "996  24.99231  中華民國59年08月23日 03:38:51  \n",
      "997  25.16592  中華民國59年08月23日 03:38:51  \n",
      "998  24.96781  中華民國59年08月23日 03:38:51  \n",
      "999  25.01525  中華民國59年08月23日 03:38:51  \n",
      "\n",
      "[1000 rows x 7 columns]\n"
     ]
    }
   ],
   "source": [
    "import requests\n",
    "from requests import Response\n",
    "from pprint import pprint\n",
    "from pydantic import BaseModel, RootModel, Field,field_validator, field_serializer\n",
    "from datetime import datetime\n",
    "import numpy as np\n",
    "import pandas as pd\n",
    "\n",
    "youbike_url = 'https://data.ntpc.gov.tw/api/datasets/c51d5111-c300-44c9-b4f1-4b28b9929ca2/json?size=1000'\n",
    "try:\n",
    "    respons:Response = requests.request('GET',youbike_url)\n",
    "    respons.raise_for_status()\n",
    "except Exception:\n",
    "    print(\"下載錯誤\")\n",
    "else:\n",
    "    content = respons.text\n",
    "\n",
    "class Factory(BaseModel):\n",
    "    名稱: str = Field(alias='organizer')\n",
    "    註冊號碼: str = Field(alias='no')\n",
    "    地址: str = Field(alias='address')\n",
    "    統編: str = Field(alias='tax_id_number')\n",
    "    緯度: float|None = Field(alias='wgs84ax') # Field 的資料類型可以設為 xxxx:float | None\n",
    "    經度: float|None = Field(alias='wgs84ay') # Field 的資料類型可以設為 xxxx:float | None\n",
    "    日期: datetime = Field(alias='date')\n",
    "\n",
    "    @field_validator('緯度', '經度', mode='before') # 先自訂驗證\n",
    "    @classmethod\n",
    "    def validate_coordinates(cls, value):\n",
    "        if value == None:\n",
    "            return None\n",
    "        else:\n",
    "            return round(float(value), ndigits=5)\n",
    "\n",
    "    @field_serializer('日期')\n",
    "    def date_serial(self, date: datetime) -> str:\n",
    "        return date.strftime(f'中華民國{date.year-1911}年%m月%d日 %H:%M:%S')\n",
    "\n",
    "class Companys(RootModel):\n",
    "    root: list[Factory]\n",
    "\n",
    "companys: Companys = Companys.model_validate_json(content)\n",
    "companys_list = companys.model_dump()\n",
    "pprint(companys_list)\n",
    "df1 = pd.DataFrame(companys_list)\n",
    "df1\n",
    "\n",
    "#to_csv()\n",
    "df1.to_csv('factory.csv',index=False, encoding='utf-8')\n",
    "\n",
    "#to_excel()\n",
    "df1.to_excel('factory.xlsx',sheet_name='工廠名單')"
   ]
  }
 ],
 "metadata": {
  "kernelspec": {
   "display_name": "Python 3",
   "language": "python",
   "name": "python3"
  },
  "language_info": {
   "codemirror_mode": {
    "name": "ipython",
    "version": 3
   },
   "file_extension": ".py",
   "mimetype": "text/x-python",
   "name": "python",
   "nbconvert_exporter": "python",
   "pygments_lexer": "ipython3",
   "version": "3.11.9"
  }
 },
 "nbformat": 4,
 "nbformat_minor": 2
}
