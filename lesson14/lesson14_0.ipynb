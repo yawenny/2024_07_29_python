{
 "cells": [
  {
   "cell_type": "code",
   "execution_count": null,
   "metadata": {},
   "outputs": [],
   "source": [
    "import matplotlib.pyplot as plt\n",
    "\n",
    "labels = ['Nokia', 'Samsung', 'Apple', 'Lumia']\n",
    "values = [20, 30, 45, 10]\n",
    "colors =['yellow', 'green', 'red', 'blue']\n",
    "explode = [0.2,0,0,0]\n",
    "# figure = plt.figure()\n",
    "# axes = figure.add_subplot()\n",
    "figure,axes = plt.subplots()\n",
    "axes.pie(values, labels=labels,colors=colors,startangle=180,explode=explode,shadow=True,autopct='%.1f%%')\n",
    "\n",
    "plt.show()"
   ]
  },
  {
   "cell_type": "code",
   "execution_count": null,
   "metadata": {},
   "outputs": [],
   "source": []
  }
 ],
 "metadata": {
  "kernelspec": {
   "display_name": "Python 3",
   "language": "python",
   "name": "python3"
  },
  "language_info": {
   "codemirror_mode": {
    "name": "ipython",
    "version": 3
   },
   "file_extension": ".py",
   "mimetype": "text/x-python",
   "name": "python",
   "nbconvert_exporter": "python",
   "pygments_lexer": "ipython3",
   "version": "3.11.9"
  }
 },
 "nbformat": 4,
 "nbformat_minor": 2
}
