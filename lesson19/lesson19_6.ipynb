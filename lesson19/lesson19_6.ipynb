{
 "cells": [
  {
   "cell_type": "code",
   "execution_count": 10,
   "metadata": {},
   "outputs": [
    {
     "name": "stdout",
     "output_type": "stream",
     "text": [
      "           車站名稱   進站人數   出站人數\n",
      "乘車日                          \n",
      "2019-04-23   基隆   8442   7743\n",
      "2019-04-24   基隆   7570   6977\n",
      "2019-04-25   基隆   7381   6797\n",
      "2019-04-26   基隆   9797   9244\n",
      "2019-04-27   基隆   8164   8035\n",
      "...         ...    ...    ...\n",
      "2023-12-27   基隆  10133   9662\n",
      "2023-12-28   基隆   8525   7837\n",
      "2023-12-29   基隆  11561  10671\n",
      "2023-12-30   基隆  12475  11779\n",
      "2023-12-31   基隆  12955  11509\n",
      "\n",
      "[1714 rows x 3 columns]\n",
      "           車站名稱   進站人數   出站人數\n",
      "乘車日                          \n",
      "2021-01-01   臺北  65706  47931\n",
      "2021-01-02   臺北  45663  52131\n",
      "2021-01-03   臺北  46763  60848\n",
      "2021-01-04   臺北  48796  51948\n",
      "2021-01-05   臺北  46660  46613\n",
      "...         ...    ...    ...\n",
      "2021-12-27   臺北  46560  48610\n",
      "2021-12-28   臺北  46474  46920\n",
      "2021-12-29   臺北  50404  49202\n",
      "2021-12-30   臺北  64782  59931\n",
      "2021-12-31   臺北  58954  68471\n",
      "\n",
      "[365 rows x 3 columns]\n"
     ]
    }
   ],
   "source": [
    "import os\n",
    "import pandas as pd\n",
    "import json\n",
    "\n",
    "def parse_data(filename):\n",
    "    df1 = pd.read_csv(filename)\n",
    "    df2 = df1.rename(columns={\"trnOpDate\":\"乘車日\",\n",
    "            \"staCode\":\"車站代碼\",\n",
    "            \"gateInComingCnt\":\"進站人數\",\n",
    "            \"gateOutGoingCnt\":\"出站人數\"})\n",
    "    with open('車站基本資料集.json',encoding='utf-8') as file:\n",
    "        json_data = json.load(file)\n",
    "        stations_info = pd.DataFrame(json_data,columns=['stationCode','stationName'])\n",
    "        stations_info = stations_info.astype({'stationCode':'int32'})\n",
    "    df3 = pd.merge(df2,stations_info,left_on='車站代碼',right_on='stationCode')\n",
    "    df4 = df3.rename(columns={'stationName':'車站名稱'})\n",
    "    df5 = df4.reindex(columns=['乘車日','車站名稱','進站人數','出站人數'])\n",
    "    df5['乘車日'] = pd.to_datetime(df5['乘車日'].astype(str))\n",
    "    return df5\n",
    "\n",
    "def main():\n",
    "    current_dir = os.getcwd()\n",
    "    csv_dir = os.path.join(current_dir,'每日各站進出站人數')\n",
    "    files_and_dirs = os.listdir(csv_dir)\n",
    "    all_csv_files = [filename for filename in files_and_dirs if '每日各站進出站人數' in filename]\n",
    "    sorted_csv_files = sorted(all_csv_files)\n",
    "    all_final_dfs = [] \n",
    "    for filename in sorted_csv_files:\n",
    "        abs_filename = os.path.join(csv_dir,filename)\n",
    "        all_final_dfs.append(parse_data(abs_filename))\n",
    "    df_done = pd.concat(all_final_dfs)\n",
    "    df_done1 = df_done.set_index('乘車日')\n",
    "    #print(df_done1.info())\n",
    "    #print(df_done1)\n",
    "    df_kl = df_done1.query('車站名稱==\"基隆\"')\n",
    "    print(df_kl)\n",
    "    df_tp = df_done1.query('車站名稱==\"臺北\"')\n",
    "    #print(df_tp)\n",
    "    df_tp_2021 = df_tp.loc['2021']\n",
    "    print(df_tp_2021)\n",
    "\n",
    "if __name__ == '__main__':\n",
    "    main()"
   ]
  }
 ],
 "metadata": {
  "kernelspec": {
   "display_name": "Python 3",
   "language": "python",
   "name": "python3"
  },
  "language_info": {
   "codemirror_mode": {
    "name": "ipython",
    "version": 3
   },
   "file_extension": ".py",
   "mimetype": "text/x-python",
   "name": "python",
   "nbconvert_exporter": "python",
   "pygments_lexer": "ipython3",
   "version": "3.11.9"
  }
 },
 "nbformat": 4,
 "nbformat_minor": 2
}
