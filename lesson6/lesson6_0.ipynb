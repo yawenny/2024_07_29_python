{
 "cells": [
  {
   "cell_type": "code",
   "execution_count": 1,
   "metadata": {},
   "outputs": [
    {
     "name": "stdout",
     "output_type": "stream",
     "text": [
      "total=55\n",
      "應用程式結束\n"
     ]
    }
   ],
   "source": [
    "#while 明確知道執行的次數\n",
    "#變數改變的增/減值是固定\n",
    "total=0\n",
    "i = 1\n",
    "while i<= 10:\n",
    "    total += i\n",
    "    i +=1\n",
    "print(f'total={total}\\n應用程式結束')"
   ]
  },
  {
   "cell_type": "code",
   "execution_count": 7,
   "metadata": {},
   "outputs": [
    {
     "name": "stdout",
     "output_type": "stream",
     "text": [
      "您已經存了6個月,共存了30000元\n"
     ]
    }
   ],
   "source": [
    "#while 不明確知道執行的次數\n",
    "#存錢買機車30000元,每月存錢輸入,足夠錢提示告知\n",
    "deposit = 0\n",
    "month = 0\n",
    "while deposit<30000:\n",
    "    month += 1\n",
    "    money = int(input(f'請輸入第{month}月份的存款'))\n",
    "    deposit += money\n",
    "print(f'您已經存了{month}個月,共存了{deposit}元')"
   ]
  },
  {
   "cell_type": "code",
   "execution_count": 14,
   "metadata": {},
   "outputs": [
    {
     "name": "stdout",
     "output_type": "stream",
     "text": [
      "Taiwan\n",
      "Japan\n",
      "應用程式結束\n"
     ]
    }
   ],
   "source": [
    "#請輸入小寫的英文字串,將英文字第1個字大寫\n",
    "#請輸入小寫的英文字[按q會離開]\n",
    "#taiwan輸出Taiwan,使用字串方法str.capitalize()\n",
    "\n",
    "stuff = input('請輸入小寫的英文字[按q會離開]:')\n",
    "#print(type(stuff))\n",
    "while stuff !='q':\n",
    "    print(stuff.capitalize())\n",
    "    stuff = input('請輸入小寫的英文字[按q會離開]:')\n",
    "print('應用程式結束')\n"
   ]
  },
  {
   "cell_type": "code",
   "execution_count": 17,
   "metadata": {},
   "outputs": [
    {
     "name": "stdout",
     "output_type": "stream",
     "text": [
      "Taiwan\n",
      "Japan\n",
      "應用程式結束\n"
     ]
    }
   ],
   "source": [
    "#請輸入小寫的英文字串,將英文字第1個字大寫\n",
    "#請輸入小寫的英文字[按q會離開]\n",
    "#taiwan輸出Taiwan,使用while True及break\n",
    "\n",
    "#print(type(stuff))\n",
    "while True:\n",
    "    stuff = input('請輸入小寫的英文字[按q會離開]:')\n",
    "    if stuff == 'q':\n",
    "        break\n",
    "    print(stuff.capitalize())\n",
    "\n",
    "print('應用程式結束')"
   ]
  },
  {
   "cell_type": "code",
   "execution_count": 19,
   "metadata": {},
   "outputs": [
    {
     "name": "stdout",
     "output_type": "stream",
     "text": [
      "Taiwan\n",
      "Japan\n",
      "應用程式結束\n"
     ]
    }
   ],
   "source": [
    "#請輸入小寫的英文字串,將英文字第1個字大寫\n",
    "#請輸入小寫的英文字[按q會離開]\n",
    "#taiwan輸出Taiwan,使用while True及break,continue\n",
    "\n",
    "#print(type(stuff))\n",
    "while True:\n",
    "    stuff = input('請輸入小寫的英文字[按q會離開]:')\n",
    "    if stuff == 'q':\n",
    "        break\n",
    "    else:\n",
    "        print(stuff.capitalize())\n",
    "        continue\n",
    "\n",
    "print('應用程式結束')"
   ]
  },
  {
   "cell_type": "code",
   "execution_count": 6,
   "metadata": {},
   "outputs": [
    {
     "name": "stdout",
     "output_type": "stream",
     "text": [
      "林雅雯的bmi為24.017059580782423,為過重\n",
      "應用程式結束\n"
     ]
    }
   ],
   "source": [
    "\n",
    "try:\n",
    "    while True:\n",
    "        name=str(input(\"請輸入姓名[按q會離開]\"))\n",
    "        if name == 'q':\n",
    "            break\n",
    "        else:\n",
    "            height=float(input('請輸入身高:'))\n",
    "            weight=float(input('請輸入體重:'))\n",
    "            bmi=round(weight/(((height*0.01))**2),ndigit=2)\n",
    "            if bmi<18.5:\n",
    "                grade=\"體重過輕\"\n",
    "            elif bmi<24:\n",
    "                grade=\"正常範圍\"\n",
    "            elif bmi<27:\n",
    "                grade=\"過重\"\n",
    "            elif bmi<30:\n",
    "                grade=\"輕度肥胖\"\n",
    "            elif bmi<35:\n",
    "                grade=\"中度肥胖\"\n",
    "            elif bmi>=35:\n",
    "                grade=\"重度肥胖\"\n",
    "            print(f\"{name}的bmi為{bmi},為{grade}\")\n",
    "            continue\n",
    "    print(\"應用程式結束\")\n",
    "except ValueError:\n",
    "        print(\"格式錯誤\")\n",
    "           \n"
   ]
  }
 ],
 "metadata": {
  "kernelspec": {
   "display_name": "Python 3",
   "language": "python",
   "name": "python3"
  },
  "language_info": {
   "codemirror_mode": {
    "name": "ipython",
    "version": 3
   },
   "file_extension": ".py",
   "mimetype": "text/x-python",
   "name": "python",
   "nbconvert_exporter": "python",
   "pygments_lexer": "ipython3",
   "version": "3.11.9"
  }
 },
 "nbformat": 4,
 "nbformat_minor": 2
}
