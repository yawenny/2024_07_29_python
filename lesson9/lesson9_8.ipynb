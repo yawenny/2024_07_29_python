{
 "cells": [
  {
   "cell_type": "code",
   "execution_count": 4,
   "metadata": {},
   "outputs": [],
   "source": [
    "#下載網頁資料\n",
    "import requests\n",
    "from requests.exceptions import HTTPError,ConnectionError,Timeout\n",
    "try:\n",
    "    url='https://raw.githubusercontent.com/roberthsu2003/python/master/%E6%AA%94%E6%A1%88%E5%AD%98%E5%8F%96/%E5%80%8B%E8%82%A1%E6%97%A5%E6%88%90%E4%BA%A4%E8%B3%87%E8%A8%8A.csv'\n",
    "    response = requests.get(url)\n",
    "    response.raise_for_status()\n",
    "    #print(type(response))\n",
    "    content = response.text\n",
    "    #print(content)\n",
    "except ConnectionError:\n",
    "    print(\"連線伺服器異常\")\n",
    "except Timeout:\n",
    "    print(\"伺服器太忙,沒有回應\")\n",
    "except HTTPError:\n",
    "    print(\"伺服器回應連線錯誤\")\n",
    "except Exception:\n",
    "    print(\"不知名的錯誤\")\n",
    "else:\n",
    "    file = open('abc.csv',mode='w',encoding='utf-8',newline='')\n",
    "    file.write(content)\n",
    "    file.close()"
   ]
  },
  {
   "cell_type": "code",
   "execution_count": 8,
   "metadata": {},
   "outputs": [],
   "source": [
    "#存成csv文字檔\n",
    "file = open('abc.csv',mode='w',encoding='utf-8',newline='')\n",
    "file.write(content)\n",
    "file.close()"
   ]
  },
  {
   "cell_type": "code",
   "execution_count": 2,
   "metadata": {},
   "outputs": [],
   "source": [
    "#下載網頁資料\n",
    "import requests\n",
    "from requests.exceptions import HTTPError,ConnectionError,Timeout\n",
    "try:\n",
    "    url = 'https://opendata.cwa.gov.tw/fileapi/v1/opendataapi/O-A0091-001?Authorization=rdec-key-123-45678-011121314&format=JSON'\n",
    "    response = requests.get(url)\n",
    "    response.raise_for_status()\n",
    "    #print(type(response))\n",
    "    con = response.text\n",
    "    #print(content)\n",
    "except ConnectionError:\n",
    "    print(\"連線伺服器異常\")\n",
    "except Timeout:\n",
    "    print(\"伺服器太忙,沒有回應\")\n",
    "except HTTPError:\n",
    "    print(\"伺服器回應連線錯誤\")\n",
    "except Exception:\n",
    "    print(\"不知名的錯誤\")\n",
    "else:\n",
    "    file = open('台灣日射量.json',mode='w',encoding='utf-8',newline='')\n",
    "    file.write(con)\n",
    "    file.close()"
   ]
  }
 ],
 "metadata": {
  "kernelspec": {
   "display_name": "Python 3",
   "language": "python",
   "name": "python3"
  },
  "language_info": {
   "codemirror_mode": {
    "name": "ipython",
    "version": 3
   },
   "file_extension": ".py",
   "mimetype": "text/x-python",
   "name": "python",
   "nbconvert_exporter": "python",
   "pygments_lexer": "ipython3",
   "version": "3.11.9"
  }
 },
 "nbformat": 4,
 "nbformat_minor": 2
}
