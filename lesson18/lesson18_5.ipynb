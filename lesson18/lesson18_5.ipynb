{
 "cells": [
  {
   "cell_type": "code",
   "execution_count": 38,
   "metadata": {},
   "outputs": [
    {
     "name": "stderr",
     "output_type": "stream",
     "text": [
      "[*********************100%***********************]  1 of 1 completed\n",
      "[*********************100%***********************]  1 of 1 completed\n",
      "[*********************100%***********************]  1 of 1 completed\n",
      "[*********************100%***********************]  1 of 1 completed\n"
     ]
    },
    {
     "data": {
      "text/html": [
       "<div>\n",
       "<style scoped>\n",
       "    .dataframe tbody tr th:only-of-type {\n",
       "        vertical-align: middle;\n",
       "    }\n",
       "\n",
       "    .dataframe tbody tr th {\n",
       "        vertical-align: top;\n",
       "    }\n",
       "\n",
       "    .dataframe thead th {\n",
       "        text-align: right;\n",
       "    }\n",
       "</style>\n",
       "<table border=\"1\" class=\"dataframe\">\n",
       "  <thead>\n",
       "    <tr style=\"text-align: right;\">\n",
       "      <th></th>\n",
       "      <th>國泰金</th>\n",
       "      <th>新光金</th>\n",
       "      <th>中信金</th>\n",
       "      <th>台新金</th>\n",
       "    </tr>\n",
       "  </thead>\n",
       "  <tbody>\n",
       "    <tr>\n",
       "      <th>最高價</th>\n",
       "      <td>45.648304</td>\n",
       "      <td>9.83</td>\n",
       "      <td>27.176025</td>\n",
       "      <td>17.105072</td>\n",
       "    </tr>\n",
       "    <tr>\n",
       "      <th>最低價</th>\n",
       "      <td>37.80899</td>\n",
       "      <td>7.99</td>\n",
       "      <td>19.154709</td>\n",
       "      <td>13.100577</td>\n",
       "    </tr>\n",
       "    <tr>\n",
       "      <th>最低價日期</th>\n",
       "      <td>2023-01-03</td>\n",
       "      <td>2023-03-20</td>\n",
       "      <td>2023-03-17</td>\n",
       "      <td>2023-01-03</td>\n",
       "    </tr>\n",
       "    <tr>\n",
       "      <th>最高價日期</th>\n",
       "      <td>2023-08-01</td>\n",
       "      <td>2023-08-01</td>\n",
       "      <td>2023-12-14</td>\n",
       "      <td>2023-07-26</td>\n",
       "    </tr>\n",
       "  </tbody>\n",
       "</table>\n",
       "</div>"
      ],
      "text/plain": [
       "              國泰金         新光金         中信金         台新金\n",
       "最高價     45.648304        9.83   27.176025   17.105072\n",
       "最低價      37.80899        7.99   19.154709   13.100577\n",
       "最低價日期  2023-01-03  2023-03-20  2023-03-17  2023-01-03\n",
       "最高價日期  2023-08-01  2023-08-01  2023-12-14  2023-07-26"
      ]
     },
     "execution_count": 38,
     "metadata": {},
     "output_type": "execute_result"
    }
   ],
   "source": [
    "import yfinance as yf\n",
    "import pandas as pd\n",
    "\n",
    "#國泰金(2882.TW),新光金(2888.TW),中信金(2891.TW),台新金(2887.TW)\n",
    "all_data = {ticker:yf.download(ticker) for ticker in ['2882.TW','2888.TW','2891.TW','2887.TW']}\n",
    "\n",
    "all_data1 = {ticker:df['Adj Close'] for ticker,df in all_data.items()}\n",
    "prices_df = pd.DataFrame(all_data1)\n",
    "\n",
    "prices_df.columns = ['國泰金','新光金','中信金','台新金']\n",
    "prices_df1 = prices_df.dropna()\n",
    "prices_df1_2023 = prices_df1.loc['2023']\n",
    "prices_df1_2023\n",
    "\n",
    "# #平均差\n",
    "# prices_df1_2023_avg_diff = prices_df1_2023.pct_change()\n",
    "# prices_df1_2023_avg_diff.dropna()\n",
    "\n",
    "# #每日差\n",
    "# prices_df1_2023_day_diff = prices_df1_2023 - prices_df1_2023.shift(1)\n",
    "# prices_df1_2023_day_diff.dropna()\n",
    "\n",
    "# #相關係數\n",
    "# prices_df1_2023_avg_diff.corr()\n",
    "\n",
    "#將每一欄series計算統計後,再合併為dataframe\n",
    "def call(s):\n",
    "    min = s.min()\n",
    "    max = s.max()\n",
    "    min_date = s.idxmin().strftime('%Y-%m-%d')\n",
    "    max_date = s.idxmax().strftime('%Y-%m-%d')\n",
    "    return pd.Series([max,min,min_date,max_date],index=['最高價','最低價','最低價日期','最高價日期'])\n",
    "\n",
    "df2 = prices_df1_2023.apply(call)\n",
    "df2"
   ]
  }
 ],
 "metadata": {
  "kernelspec": {
   "display_name": "Python 3",
   "language": "python",
   "name": "python3"
  },
  "language_info": {
   "codemirror_mode": {
    "name": "ipython",
    "version": 3
   },
   "file_extension": ".py",
   "mimetype": "text/x-python",
   "name": "python",
   "nbconvert_exporter": "python",
   "pygments_lexer": "ipython3",
   "version": "3.11.9"
  }
 },
 "nbformat": 4,
 "nbformat_minor": 2
}
