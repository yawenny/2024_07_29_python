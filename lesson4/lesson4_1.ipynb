{
 "cells": [
  {
   "cell_type": "code",
   "execution_count": 4,
   "metadata": {},
   "outputs": [
    {
     "name": "stdout",
     "output_type": "stream",
     "text": [
      "不可以考駕照\n"
     ]
    }
   ],
   "source": [
    "age = 17\n",
    "\n",
    "if age>=18:\n",
    "    print(\"可以考駕照\")\n",
    "else:\n",
    "    print(\"不可以考駕照\")"
   ]
  },
  {
   "cell_type": "code",
   "execution_count": 9,
   "metadata": {},
   "outputs": [
    {
     "name": "stdout",
     "output_type": "stream",
     "text": [
      "學生分數是263\n"
     ]
    }
   ],
   "source": [
    "#輸入學生分數,最高300分\n",
    "#要不要加分(y,n)\n",
    "#yes,總分加5%\n",
    "import math\n",
    "score = int(input(\"輸入學生分數(最高300分):\"))\n",
    "is_add = input('學生是否符合加分條件?(y,n):')\n",
    "\n",
    "if is_add == 'y':\n",
    "    score *= 1.05\n",
    "    score = math.ceil(score)\n",
    "print(f'學生分數是{score}')"
   ]
  },
  {
   "cell_type": "code",
   "execution_count": 15,
   "metadata": {},
   "outputs": [
    {
     "name": "stdout",
     "output_type": "stream",
     "text": [
      "學生分數是:300\n"
     ]
    }
   ],
   "source": [
    "#輸入學生分數,最高300分\n",
    "#要不要加分(y,n)\n",
    "#yes,總分加5%\n",
    "import math\n",
    "score = int(input(\"輸入學生分數(最高300分):\"))\n",
    "is_add = input('學生是否符合加分條件?(y,n):')\n",
    "\n",
    "if is_add == 'y':\n",
    "    score *= 1.05\n",
    "    score = math.ceil(score)\n",
    "    if score>300:\n",
    "        score = 300\n",
    "print(f'學生分數是:{score}')"
   ]
  },
  {
   "cell_type": "code",
   "execution_count": 19,
   "metadata": {},
   "outputs": [
    {
     "name": "stdout",
     "output_type": "stream",
     "text": [
      "學生分數是:263\n",
      "應用程式結束\n"
     ]
    }
   ],
   "source": [
    "#輸入學生分數,最高300分\n",
    "#要不要加分(y,n)\n",
    "#yes,總分加5%\n",
    "import math\n",
    "try:\n",
    "    score = int(input(\"輸入學生分數(最高300分):\"))\n",
    "except ValueError:\n",
    "    print('格式錯誤')\n",
    "else:\n",
    "    is_add = input('學生是否符合加分條件?(y,n):')\n",
    "\n",
    "    if is_add == 'y':\n",
    "        score *= 1.05\n",
    "        score = math.ceil(score)\n",
    "        if score>300:\n",
    "            score = 300\n",
    "    print(f'學生分數是:{score}')\n",
    "print('應用程式結束')"
   ]
  },
  {
   "cell_type": "code",
   "execution_count": 21,
   "metadata": {},
   "outputs": [
    {
     "name": "stdout",
     "output_type": "stream",
     "text": [
      "不知名的錯誤\n",
      "應用程式結束\n"
     ]
    }
   ],
   "source": [
    "#輸入學生分數,最高300分\n",
    "#要不要加分(y,n)\n",
    "#yes,總分加5%\n",
    "import math\n",
    "try:\n",
    "    score = int(input(\"輸入學生分數(最高300分):\"))\n",
    "    raise NameError\n",
    "except ValueError:\n",
    "    print('格式錯誤')\n",
    "except Exception:\n",
    "    print('不知名的錯誤')\n",
    "else:\n",
    "    is_add = input('學生是否符合加分條件?(y,n):')\n",
    "\n",
    "    if is_add == 'y':\n",
    "        score *= 1.05\n",
    "        score = math.ceil(score)\n",
    "        if score>300:\n",
    "            score = 300\n",
    "    print(f'學生分數是:{score}')\n",
    "print('應用程式結束')"
   ]
  },
  {
   "cell_type": "code",
   "execution_count": 25,
   "metadata": {},
   "outputs": [
    {
     "name": "stdout",
     "output_type": "stream",
     "text": [
      "學生分數是:263\n",
      "應用程式結束\n"
     ]
    }
   ],
   "source": [
    "#輸入學生分數,最高300分\n",
    "#要不要加分(y,n)\n",
    "#yes,總分加5%\n",
    "import math\n",
    "try:\n",
    "    score = int(input(\"輸入學生分數(最高300分):\"))\n",
    "    if score>300:\n",
    "        raise Exception\n",
    "    if score<0:\n",
    "        raise Exception\n",
    "except ValueError:\n",
    "    print('格式錯誤')\n",
    "except Exception:\n",
    "    print('超出範圍')\n",
    "else:\n",
    "    is_add = input('學生是否符合加分條件?(y,n):')\n",
    "\n",
    "    if is_add == 'y':\n",
    "        score *= 1.05\n",
    "        score = math.ceil(score)\n",
    "        if score>300:\n",
    "            score = 300\n",
    "    print(f'學生分數是:{score}')\n",
    "print('應用程式結束')"
   ]
  },
  {
   "cell_type": "code",
   "execution_count": 26,
   "metadata": {},
   "outputs": [
    {
     "name": "stdout",
     "output_type": "stream",
     "text": [
      "學生分數是:263\n",
      "應用程式結束\n"
     ]
    }
   ],
   "source": [
    "#輸入學生分數,最高300分\n",
    "#要不要加分(y,n)\n",
    "#yes,總分加5%\n",
    "import math\n",
    "try:\n",
    "    score = int(input(\"輸入學生分數(最高300分):\"))\n",
    "    if score>300:\n",
    "        raise Exception\n",
    "    if score<0:\n",
    "        raise Exception\n",
    "    \n",
    "    is_add = input('學生是否符合加分條件?(y,n):')\n",
    "    if is_add == 'y':\n",
    "        score *= 1.05\n",
    "        score = math.ceil(score)\n",
    "        if score>300:\n",
    "            score = 300\n",
    "    print(f'學生分數是:{score}')\n",
    "except ValueError:\n",
    "    print('格式錯誤')\n",
    "except Exception:\n",
    "    print('超出範圍')\n",
    "\n",
    "print('應用程式結束')"
   ]
  },
  {
   "cell_type": "code",
   "execution_count": 6,
   "metadata": {},
   "outputs": [
    {
     "name": "stdout",
     "output_type": "stream",
     "text": [
      "格式錯誤\n"
     ]
    }
   ],
   "source": [
    "#計算BMI,判斷體重正常與否\n",
    "try:\n",
    "    name = input(\"請輸入姓名:\")\n",
    "    height = float(input(\"請輸入身高(cm):\"))\n",
    "    weight = float(input(\"請輸入體重(kg):\"))\n",
    "    BMI = round(weight/(height/100)**2,ndigits=2)\n",
    "    \n",
    "    if BMI<18.5:\n",
    "        result=\"過輕\"\n",
    "    elif BMI<24:\n",
    "        result=\"正常\"\n",
    "    elif BMI<27:\n",
    "        result=\"過重\"\n",
    "    elif BMI<30:\n",
    "        result=\"輕度肥胖\"\n",
    "    elif BMI<35:\n",
    "        result=\"中度肥胖\"\n",
    "    else:\n",
    "        result=\"重度肥胖\"\n",
    "    print(f'{name}您好:')\n",
    "    print(f'您的BMI值是:{BMI}')\n",
    "    print(f'體重:{result}')\n",
    "\n",
    "except ValueError:\n",
    "    print('格式錯誤')\n"
   ]
  }
 ],
 "metadata": {
  "kernelspec": {
   "display_name": "Python 3",
   "language": "python",
   "name": "python3"
  },
  "language_info": {
   "codemirror_mode": {
    "name": "ipython",
    "version": 3
   },
   "file_extension": ".py",
   "mimetype": "text/x-python",
   "name": "python",
   "nbconvert_exporter": "python",
   "pygments_lexer": "ipython3",
   "version": "3.11.9"
  }
 },
 "nbformat": 4,
 "nbformat_minor": 2
}
