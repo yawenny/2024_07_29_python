{
 "cells": [
  {
   "cell_type": "code",
   "execution_count": 1,
   "metadata": {},
   "outputs": [
    {
     "name": "stdout",
     "output_type": "stream",
     "text": [
      "林牙雯 的 bmi 為 24.41,為過重\n",
      "應用程式結束\n"
     ]
    }
   ],
   "source": [
    "def get_status_message(bmi:float)->str:\n",
    "    '''\n",
    "    #param bmi:這是要傳入bmi(要寫在function內的第1行)\n",
    "    #return:傳出bmi的狀態\n",
    "    '''\n",
    "    if bmi<18.5:\n",
    "        return \"體重過輕\"\n",
    "    elif bmi<24:\n",
    "        return \"正常範圍\"\n",
    "    elif bmi<27:\n",
    "        return \"過重\"\n",
    "    elif bmi<30:\n",
    "        return \"輕度肥胖\"\n",
    "    elif bmi<35:\n",
    "        return \"中度肥胖\"\n",
    "    elif bmi>=35:\n",
    "        return \"重度肥胖\"\n",
    "\n",
    "while True:\n",
    "    try:\n",
    "        name=str(input(\"請輸入姓名\"))\n",
    "        height=float(input('請輸入身高'))\n",
    "        weight=float(input('請輸入體重'))\n",
    "        bmi=round(weight/(((height*0.01))**2),ndigits=2)\n",
    "        message = get_status_message(bmi)\n",
    "        print(f\"{name} 的 bmi 為 {bmi},為{message}\")\n",
    "    except ValueError:\n",
    "        print(\"格式錯誤\")\n",
    "        continue\n",
    "    stuff = input(\"請問是否繼續輸入資料 ('q':離開,任意鍵:繼續)?\")\n",
    "\n",
    "    if stuff == 'q':\n",
    "        break\n",
    "    \n",
    "\n",
    "print(\"應用程式結束\")"
   ]
  },
  {
   "cell_type": "code",
   "execution_count": 3,
   "metadata": {},
   "outputs": [
    {
     "data": {
      "text/plain": [
       "'xxxxxxxxxxx'"
      ]
     },
     "execution_count": 3,
     "metadata": {},
     "output_type": "execute_result"
    }
   ],
   "source": [
    "#單行字串\n",
    "'xxxxxxxxxxx'"
   ]
  },
  {
   "cell_type": "code",
   "execution_count": 10,
   "metadata": {},
   "outputs": [
    {
     "data": {
      "text/plain": [
       "'\\nxxxxxxxxx\\nxxxxxxxxxx\\nxxxxxx\\n'"
      ]
     },
     "metadata": {},
     "output_type": "display_data"
    },
    {
     "name": "stdout",
     "output_type": "stream",
     "text": [
      "\n",
      "xxxxxxxxx\n",
      "xxxxxxxxxx\n",
      "xxxxxx\n",
      "\n"
     ]
    }
   ],
   "source": [
    "#多行字串\n",
    "multi_lines='''\n",
    "xxxxxxxxx\n",
    "xxxxxxxxxx\n",
    "xxxxxx\n",
    "'''\n",
    "display(multi_lines)#ipynb看格式\n",
    "print(multi_lines)#螢幕顯示（空很多是因為前一個display有\\n換行)"
   ]
  }
 ],
 "metadata": {
  "kernelspec": {
   "display_name": "vene1",
   "language": "python",
   "name": "python3"
  },
  "language_info": {
   "codemirror_mode": {
    "name": "ipython",
    "version": 3
   },
   "file_extension": ".py",
   "mimetype": "text/x-python",
   "name": "python",
   "nbconvert_exporter": "python",
   "pygments_lexer": "ipython3",
   "version": "3.11.11"
  }
 },
 "nbformat": 4,
 "nbformat_minor": 2
}
