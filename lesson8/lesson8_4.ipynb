{
 "cells": [
  {
   "cell_type": "code",
   "execution_count": 1,
   "metadata": {},
   "outputs": [
    {
     "data": {
      "text/plain": [
       "__main__.Person"
      ]
     },
     "execution_count": 1,
     "metadata": {},
     "output_type": "execute_result"
    }
   ],
   "source": [
    "class Person():\n",
    "    pass\n",
    "\n",
    "p1 =Person()#預設的初始化\n",
    "type(p1)\n",
    "p2=Person()\n",
    "type(p2)"
   ]
  },
  {
   "cell_type": "code",
   "execution_count": 4,
   "metadata": {},
   "outputs": [
    {
     "name": "stdout",
     "output_type": "stream",
     "text": [
      "robert\n",
      "林雅雯\n"
     ]
    }
   ],
   "source": [
    "class Person():\n",
    "    def __init__(self,name:str):\n",
    "        self.name = name\n",
    "\n",
    "p1 =Person(name='robert')#自訂的初始化,p1及p2實體\n",
    "print(p1.name)\n",
    "p2=Person('林雅雯')\n",
    "print(p2.name)"
   ]
  },
  {
   "cell_type": "code",
   "execution_count": 6,
   "metadata": {},
   "outputs": [
    {
     "name": "stdout",
     "output_type": "stream",
     "text": [
      "我的名字是:robert\n",
      "我的名字是:林雅雯\n"
     ]
    }
   ],
   "source": [
    "class Person():\n",
    "    def __init__(self,name:str):\n",
    "        self.name = name\n",
    "\n",
    "    def description(self)->str:#實體方法\n",
    "        return f'我的名字是:{self.name}'\n",
    "\n",
    "p1 =Person(name='robert')#自訂的初始化,p1及p2實體\n",
    "print(p1.description())\n",
    "p2=Person('林雅雯')\n",
    "print(p2.description())"
   ]
  },
  {
   "cell_type": "code",
   "execution_count": 13,
   "metadata": {},
   "outputs": [
    {
     "name": "stdout",
     "output_type": "stream",
     "text": [
      "我的名字是:robert\n",
      "國文分數:70\n",
      "英文分數:95\n",
      "我的總分:165\n",
      "我的平均:82.5\n",
      "我的名字是:林雅雯\n",
      "國文分數:86\n",
      "英文分數:92\n",
      "我的總分:178\n",
      "我的平均:89.0\n"
     ]
    }
   ],
   "source": [
    "class Person():\n",
    "    def __init__(self,name:str,c:int,e:int):\n",
    "        self.name = name\n",
    "        self.chinese = c\n",
    "        self.english = e\n",
    "    \n",
    "\n",
    "    def sum(self)->int:        \n",
    "        return self.chinese + self.english\n",
    "    \n",
    "    def average(self)->float:\n",
    "        return self.sum()/2.0\n",
    "\n",
    "    def description(self)->str:#實體方法\n",
    "        return f'我的名字是:{self.name}\\n國文分數:{self.chinese}\\n英文分數:{self.english}'\n",
    "\n",
    "p1 =Person(name='robert',e=95,c=70)#自訂的初始化,p1及p2實體\n",
    "print(p1.description())\n",
    "print(f'我的總分:{p1.sum()}')\n",
    "print(f'我的平均:{p1.average()}')\n",
    "p2=Person('林雅雯',86,92)\n",
    "print(p2.description())\n",
    "print(f'我的總分:{p2.sum()}')\n",
    "print(f'我的平均:{p2.average()}')"
   ]
  },
  {
   "cell_type": "code",
   "execution_count": 4,
   "metadata": {},
   "outputs": [
    {
     "name": "stdout",
     "output_type": "stream",
     "text": [
      "姓名:林雅雯\n",
      "身高:159.5cm\n",
      "體重:61.1kg\n",
      "BMI值:24.02\n",
      "結果:過重\n",
      "\n",
      "姓名:張凱博\n",
      "身高:172.0cm\n",
      "體重:85.0kg\n",
      "BMI值:28.73\n",
      "結果:輕度肥胖\n",
      "\n",
      "應用程式結束\n"
     ]
    }
   ],
   "source": [
    "class BMI():\n",
    "    def __init__(self,n:str,h:float,w:float)->str:\n",
    "        self.name = n\n",
    "        self.weight = w\n",
    "        self.height = h\n",
    "\n",
    "    def description(self)->str:#實體方法\n",
    "        return f'姓名:{self.name}\\n身高:{self.height}cm\\n體重:{self.weight}kg'\n",
    "        \n",
    "    def bmi(self)->float:\n",
    "        return round(self.weight/(((self.height*0.01))**2),ndigits=2)\n",
    "        \n",
    "    def result(self)->str:#實體方法\n",
    "        if self.bmi()<18.5:\n",
    "            return \"體重過輕\"\n",
    "        elif self.bmi()<24:\n",
    "            return \"正常範圍\"\n",
    "        elif self.bmi()<27:\n",
    "            return \"過重\"\n",
    "        elif self.bmi()<30:\n",
    "            return \"輕度肥胖\"\n",
    "        elif self.bmi()<35:\n",
    "            return \"中度肥胖\"\n",
    "        elif self.bmi()>=35:\n",
    "            return \"重度肥胖\"\n",
    "        \n",
    "    \n",
    "while True:\n",
    "    try:\n",
    "        name = input(\"請輸入姓名: \")\n",
    "        height = float(input('請輸入身高（cm）: '))\n",
    "        weight = float(input('請輸入體重（kg）: '))\n",
    "        #這裏建立一個BMI的實體\n",
    "\n",
    "        p1 =BMI(n=name,h=height,w=weight)#自訂的初始化,p1及p2實體\n",
    "        print(p1.description())\n",
    "        print(f'BMI值:{p1.bmi()}')\n",
    "        print(f'結果:{p1.result()}\\n')\n",
    "\n",
    "    except ValueError:\n",
    "        print(\"格式錯誤，請重新輸入數據\")\n",
    "        continue\n",
    "\n",
    "    stuff = input(\"請問是否繼續輸入資料 ('q': 離開, 任意鍵: 繼續)? \")\n",
    "\n",
    "    if stuff == 'q':\n",
    "        break\n",
    "\n",
    "print(\"應用程式結束\")"
   ]
  }
 ],
 "metadata": {
  "kernelspec": {
   "display_name": "Python 3",
   "language": "python",
   "name": "python3"
  },
  "language_info": {
   "codemirror_mode": {
    "name": "ipython",
    "version": 3
   },
   "file_extension": ".py",
   "mimetype": "text/x-python",
   "name": "python",
   "nbconvert_exporter": "python",
   "pygments_lexer": "ipython3",
   "version": "3.11.9"
  }
 },
 "nbformat": 4,
 "nbformat_minor": 2
}
