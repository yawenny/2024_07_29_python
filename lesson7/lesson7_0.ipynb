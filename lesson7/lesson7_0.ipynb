{
 "cells": [
  {
   "cell_type": "code",
   "execution_count": 2,
   "metadata": {},
   "outputs": [
    {
     "name": "stdout",
     "output_type": "stream",
     "text": [
      "q您好,您的的BMI值為24.02,體重:過重\n",
      "應用程式結束\n"
     ]
    }
   ],
   "source": [
    "\n",
    "while True:\n",
    "    try:\n",
    "        name=input(\"請輸入姓名:\")\n",
    "        height=float(input('請輸入身高:'))\n",
    "        weight=float(input('請輸入體重:'))\n",
    "        bmi=round(weight/(((height*0.01))**2),ndigits=2)\n",
    "        if bmi<18.5:\n",
    "            grade=\"過輕\"\n",
    "        elif bmi<24:\n",
    "            grade=\"正常\"\n",
    "        elif bmi<27:\n",
    "            grade=\"過重\"\n",
    "        elif bmi<30:\n",
    "            grade=\"輕度肥胖\"\n",
    "        elif bmi<35:\n",
    "            grade=\"中度肥胖\"\n",
    "        elif bmi>=35:\n",
    "            grade=\"重度肥胖\"\n",
    "        print(f\"{name}您好,您的的BMI值為{bmi},體重:{grade}\")\n",
    "    except ValueError:\n",
    "        print(\"格式錯誤\")\n",
    "        continue\n",
    "    answer=input(\"是否再進行計算?按q會離開,enter繼續\")\n",
    "    if answer == 'q':\n",
    "        break \n",
    "       \n",
    "print(\"應用程式結束\")\n"
   ]
  }
 ],
 "metadata": {
  "kernelspec": {
   "display_name": "Python 3",
   "language": "python",
   "name": "python3"
  },
  "language_info": {
   "codemirror_mode": {
    "name": "ipython",
    "version": 3
   },
   "file_extension": ".py",
   "mimetype": "text/x-python",
   "name": "python",
   "nbconvert_exporter": "python",
   "pygments_lexer": "ipython3",
   "version": "3.11.9"
  }
 },
 "nbformat": 4,
 "nbformat_minor": 2
}
