{
 "cells": [
  {
   "cell_type": "code",
   "execution_count": 4,
   "metadata": {},
   "outputs": [
    {
     "name": "stderr",
     "output_type": "stream",
     "text": [
      "[*********************100%***********************]  1 of 1 completed\n",
      "[*********************100%***********************]  1 of 1 completed\n",
      "[*********************100%***********************]  1 of 1 completed\n",
      "[*********************100%***********************]  1 of 1 completed\n",
      "[*********************100%***********************]  1 of 1 completed\n"
     ]
    },
    {
     "data": {
      "text/plain": [
       "<bound method DataFrame.info of                   國泰金   新光金        中信金        台新金\n",
       "Date                                             \n",
       "2023-01-03  37.808990  8.80  20.349007  13.100577\n",
       "2023-01-04  37.808990  8.80  20.532745  13.187337\n",
       "2023-01-05  38.092911  8.88  20.762419  13.360854\n",
       "2023-01-06  38.566116  8.88  20.762419  13.317474\n",
       "2023-01-09  39.749123  8.96  21.267698  13.577750\n",
       "...               ...   ...        ...        ...\n",
       "2023-12-25  43.329659  8.69  26.602892  16.547298\n",
       "2023-12-26  43.667797  8.77  26.746174  16.640261\n",
       "2023-12-27  43.909325  8.87  26.841698  16.686743\n",
       "2023-12-28  44.247456  8.88  27.128262  16.826187\n",
       "2023-12-29  44.199154  8.85  27.080502  16.826187\n",
       "\n",
       "[239 rows x 4 columns]>"
      ]
     },
     "execution_count": 4,
     "metadata": {},
     "output_type": "execute_result"
    }
   ],
   "source": [
    "import yfinance as yf\n",
    "import pandas as pd\n",
    "yf.download('AAPL')\n",
    "\n",
    "all_data = {ticker:yf.download(ticker) for ticker in ['2882.TW','2888.TW','2891.TW','2887.TW']}\n",
    "all_data\n",
    "\n",
    "all_data1 = {ticker:df['Adj Close'] for ticker,df in all_data.items()}\n",
    "prices_df = pd.DataFrame(all_data1)\n",
    "prices_df\n",
    "\n",
    "prices_df.columns = ['國泰金','新光金','中信金','台新金']\n",
    "prices_df1 = prices_df.dropna()\n",
    "prices_df1\n",
    "\n",
    "prices_df1_2023 = prices_df1.loc['2023']\n",
    "prices_df1_2023\n",
    "\n",
    "# #平均差\n",
    "# prices_pce_change = prices_df1_2023.pct_change()\n",
    "# prices_pce_change_nonan =prices_pce_change.dropna()\n",
    "# display(prices_pce_change_nonan)\n",
    "\n",
    "# #每日差\n",
    "# prices_diff = prices_df1_2023-prices_df1_2023.shift(1)\n",
    "# prices_diff_nonan =prices_diff.dropna()\n",
    "# display(prices_diff_nonan)\n",
    "\n",
    "# #相關係數\n",
    "# prices_corr = prices_pce_change.corr()\n",
    "# display(prices_corr)"
   ]
  }
 ],
 "metadata": {
  "kernelspec": {
   "display_name": "Python 3",
   "language": "python",
   "name": "python3"
  },
  "language_info": {
   "codemirror_mode": {
    "name": "ipython",
    "version": 3
   },
   "file_extension": ".py",
   "mimetype": "text/x-python",
   "name": "python",
   "nbconvert_exporter": "python",
   "pygments_lexer": "ipython3",
   "version": "3.11.9"
  }
 },
 "nbformat": 4,
 "nbformat_minor": 2
}
