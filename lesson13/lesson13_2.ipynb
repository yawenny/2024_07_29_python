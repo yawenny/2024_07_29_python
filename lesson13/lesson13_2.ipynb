{
 "cells": [
  {
   "cell_type": "code",
   "execution_count": 2,
   "metadata": {},
   "outputs": [
    {
     "data": {
      "text/plain": [
       "[3, 6, 9, 12, 15]"
      ]
     },
     "execution_count": 2,
     "metadata": {},
     "output_type": "execute_result"
    }
   ],
   "source": [
    "values = [1,2,3,4,5]\n",
    "multiply =3\n",
    "\n",
    "new_values = []#用list就要個別取出來乘\n",
    "for i in values:\n",
    "    new_values.append(i*multiply)\n",
    "\n",
    "new_values"
   ]
  },
  {
   "cell_type": "code",
   "execution_count": 4,
   "metadata": {},
   "outputs": [
    {
     "data": {
      "text/plain": [
       "[3, 6, 9, 12, 15]"
      ]
     },
     "execution_count": 4,
     "metadata": {},
     "output_type": "execute_result"
    }
   ],
   "source": [
    "values = [1,2,3,4,5]\n",
    "multiply =3\n",
    "\n",
    "new_values = [i*multiply for i in values]#簡化寫法\n",
    "\n",
    "new_values"
   ]
  },
  {
   "cell_type": "code",
   "execution_count": 5,
   "metadata": {},
   "outputs": [
    {
     "data": {
      "text/plain": [
       "[1, 2, 3, 4, 5, 1, 2, 3, 4, 5, 1, 2, 3, 4, 5]"
      ]
     },
     "execution_count": 5,
     "metadata": {},
     "output_type": "execute_result"
    }
   ],
   "source": [
    "values = [1,2,3,4,5]\n",
    "multiply =3\n",
    "values * multiply"
   ]
  },
  {
   "cell_type": "code",
   "execution_count": 12,
   "metadata": {},
   "outputs": [
    {
     "data": {
      "text/plain": [
       "array([ 3.14159, 12.56636, 28.27431, 50.26544, 78.53975])"
      ]
     },
     "execution_count": 12,
     "metadata": {},
     "output_type": "execute_result"
    }
   ],
   "source": [
    "import numpy as np\n",
    "values_array = np.array([1,2,3,4,5])\n",
    "multiply =3\n",
    "values_array*multiply\n",
    "#計算面積pir2\n",
    "values_array **2*3.14159"
   ]
  },
  {
   "cell_type": "code",
   "execution_count": 11,
   "metadata": {},
   "outputs": [
    {
     "data": {
      "text/plain": [
       "array([[[87, 98, 98, 95, 87],\n",
       "        [66, 61, 68, 82, 91],\n",
       "        [87, 96, 94, 71, 77],\n",
       "        ...,\n",
       "        [89, 74, 56, 79, 80],\n",
       "        [61, 87, 59, 98, 95],\n",
       "        [88, 78, 51, 68, 70]],\n",
       "\n",
       "       [[83, 56, 72, 70, 97],\n",
       "        [75, 56, 84, 59, 55],\n",
       "        [58, 85, 85, 95, 76],\n",
       "        ...,\n",
       "        [51, 75, 78, 67, 84],\n",
       "        [88, 87, 95, 51, 53],\n",
       "        [86, 89, 83, 75, 65]],\n",
       "\n",
       "       [[96, 77, 72, 96, 68],\n",
       "        [70, 52, 64, 63, 86],\n",
       "        [88, 87, 63, 69, 93],\n",
       "        ...,\n",
       "        [51, 92, 66, 99, 63],\n",
       "        [55, 63, 85, 81, 94],\n",
       "        [65, 51, 78, 89, 94]],\n",
       "\n",
       "       [[64, 98, 70, 53, 76],\n",
       "        [81, 50, 98, 87, 93],\n",
       "        [97, 98, 65, 63, 56],\n",
       "        ...,\n",
       "        [96, 74, 58, 61, 91],\n",
       "        [96, 70, 53, 56, 52],\n",
       "        [83, 51, 56, 50, 65]],\n",
       "\n",
       "       [[95, 72, 60, 81, 82],\n",
       "        [92, 58, 98, 61, 91],\n",
       "        [51, 99, 96, 87, 72],\n",
       "        ...,\n",
       "        [92, 64, 94, 82, 87],\n",
       "        [51, 97, 82, 95, 50],\n",
       "        [60, 72, 72, 56, 50]]])"
      ]
     },
     "execution_count": 11,
     "metadata": {},
     "output_type": "execute_result"
    }
   ],
   "source": [
    "import numpy as np\n",
    "#np.random.randint(50,100,size=(5,50,5))#亂數50~100之間,陣列為5*50列*5欄\n",
    "np.random.randint(50,100,size=(50,5))"
   ]
  },
  {
   "cell_type": "code",
   "execution_count": 1,
   "metadata": {},
   "outputs": [
    {
     "name": "stdout",
     "output_type": "stream",
     "text": [
      "set()\n",
      "{1, 2, 3, 4, 5}\n",
      "{20, 21, 22, 23, 24, 25, 26, 27, 28, 29}\n",
      "{40, 10, 50, 20, 30}\n",
      "{1, 2, 3}\n"
     ]
    }
   ],
   "source": [
    "set1 = set()# 建立空的集合\n",
    "\n",
    "set2 = {1, 2, 3, 4, 5}\n",
    "\n",
    "# 從串列 (List) 來建立集合\n",
    "set3 = set([i for i in range(20, 30)])\n",
    "\n",
    "# 從數組 (Tuple) 來建立集合\n",
    "set4 = set((10, 20, 30, 40, 50))\n",
    "\n",
    "# 集合不會包含重複的資料, 你可以從 set5 印出來的結果得知\n",
    "set5 = set((1, 1, 1, 2, 2, 3))\n",
    "\n",
    "print(set1)\n",
    "print(set2)\n",
    "print(set3)\n",
    "print(set4)\n",
    "print(set5)"
   ]
  }
 ],
 "metadata": {
  "kernelspec": {
   "display_name": "Python 3",
   "language": "python",
   "name": "python3"
  },
  "language_info": {
   "codemirror_mode": {
    "name": "ipython",
    "version": 3
   },
   "file_extension": ".py",
   "mimetype": "text/x-python",
   "name": "python",
   "nbconvert_exporter": "python",
   "pygments_lexer": "ipython3",
   "version": "3.11.9"
  }
 },
 "nbformat": 4,
 "nbformat_minor": 2
}
