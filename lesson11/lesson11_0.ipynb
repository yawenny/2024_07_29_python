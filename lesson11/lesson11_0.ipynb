{
 "cells": [
  {
   "cell_type": "code",
   "execution_count": null,
   "metadata": {},
   "outputs": [],
   "source": [
    "import csv\n",
    "#pprint美化版面輸出\n",
    "from pprint import pprint\n",
    "with open('歷年國內主要觀光遊憩據點遊客人數月別統計.csv',encoding='utf-8',newline='') as file:\n",
    "    #contents = file.read()\n",
    "    #csv.DictReader讀csv檔,並將文字檔變為python的dictionary\n",
    "    dictReader = csv.DictReader(file)\n",
    "    #由python的dictionary變為list of dictionary\n",
    "    contents:list = list(dictReader)\n",
    "#pprint(contents)\n",
    "\n",
    "#searchs:list = []\n",
    "#for item in contents:\n",
    "#'觀光遊憩區'是key,'玉山國家公園'是value\n",
    "#    if '玉山國家公園' in item['觀光遊憩區']:\n",
    "#list有實體方法list.append()\n",
    "#        searchs.append(item)\n",
    "#.keys()把dict的keys列出為list\n",
    "#keys:list[str] = list(searchs[0].keys())\n",
    "\n",
    "#簡化建立list的comprehension綜合方式\n",
    "searchs = [item for item in contents if '玉山國家公園' in item['觀光遊憩區']]\n",
    "\n",
    "with open('玉山國家公園.csv',mode='w',encoding='utf-8',newline='') as file:\n",
    "    dicWriter = csv.DictWriter(file,keys)\n",
    "    dicWriter.writeheader()\n",
    "    dicWriter.writerows(searchs)\n",
    "\n",
    "#result:list = []\n",
    "#for item in contents:\n",
    "    #if '南投縣' in item['縣市別']:\n",
    "        #result.append(item)\n",
    "\n",
    "result = [item for item in contents if '南投縣' in item['縣市別']]\n",
    "\n",
    "with open('南投縣.csv',mode='w',encoding='utf-8',newline='') as file:\n",
    "    dicWriter = csv.DictWriter(file,keys)\n",
    "    dicWriter.writeheader()\n",
    "    dicWriter.writerows(result)  \n",
    "\n",
    "#pprint(searchs[0].keys())\n"
   ]
  }
 ],
 "metadata": {
  "kernelspec": {
   "display_name": "Python 3",
   "language": "python",
   "name": "python3"
  },
  "language_info": {
   "codemirror_mode": {
    "name": "ipython",
    "version": 3
   },
   "file_extension": ".py",
   "mimetype": "text/x-python",
   "name": "python",
   "nbconvert_exporter": "python",
   "pygments_lexer": "ipython3",
   "version": "3.11.9"
  }
 },
 "nbformat": 4,
 "nbformat_minor": 2
}
