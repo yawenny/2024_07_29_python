{
 "cells": [
  {
   "cell_type": "code",
   "execution_count": 1,
   "metadata": {},
   "outputs": [
    {
     "name": "stdout",
     "output_type": "stream",
     "text": [
      "total=55\n",
      "應用程式結束\n"
     ]
    }
   ],
   "source": [
    "#while 明確知道執行的次數\n",
    "total=0\n",
    "i = 1\n",
    "while i<= 10:\n",
    "    total += i\n",
    "    i +=1\n",
    "print(f'total={total}\\n應用程式結束')"
   ]
  },
  {
   "cell_type": "code",
   "execution_count": 1,
   "metadata": {},
   "outputs": [
    {
     "name": "stdout",
     "output_type": "stream",
     "text": [
      "total=55\n",
      "應用程式結束\n"
     ]
    }
   ],
   "source": [
    "#while 明確知道執行的次數\n",
    "total=0\n",
    "i = 1\n",
    "while i<= 10:\n",
    "    total += i\n",
    "    i +=1\n",
    "print(f'total={total}\\n應用程式結束')"
   ]
  }
 ],
 "metadata": {
  "kernelspec": {
   "display_name": "Python 3",
   "language": "python",
   "name": "python3"
  },
  "language_info": {
   "codemirror_mode": {
    "name": "ipython",
    "version": 3
   },
   "file_extension": ".py",
   "mimetype": "text/x-python",
   "name": "python",
   "nbconvert_exporter": "python",
   "pygments_lexer": "ipython3",
   "version": "3.11.9"
  }
 },
 "nbformat": 4,
 "nbformat_minor": 2
}
